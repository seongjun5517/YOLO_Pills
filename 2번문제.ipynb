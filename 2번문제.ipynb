{
 "cells": [
  {
   "cell_type": "markdown",
   "id": "6ea4b9c4",
   "metadata": {},
   "source": [
    "파일을 불러옵니다."
   ]
  },
  {
   "cell_type": "code",
   "execution_count": 15,
   "id": "47107e3c",
   "metadata": {},
   "outputs": [],
   "source": [
    "\n",
    "\n",
    "import pandas as pd\n",
    "import numpy as np\n",
    "import matplotlib.pyplot as plt\n",
    "\n",
    "file_path = '../data/drinks.csv'\n",
    "drinks = pd.read_csv(file_path)"
   ]
  },
  {
   "cell_type": "markdown",
   "id": "e02c9247",
   "metadata": {},
   "source": [
    "유럽국가에 대해서만 맥주와 와인의 데이터를 뽑습니다."
   ]
  },
  {
   "cell_type": "code",
   "execution_count": 19,
   "id": "eeae8fc6",
   "metadata": {},
   "outputs": [],
   "source": [
    "europ = drinks[(drinks['continent']=='EU')]"
   ]
  },
  {
   "cell_type": "markdown",
   "id": "a5a6b715",
   "metadata": {},
   "source": [
    "유렵국가들에 대해서만 맥주와 와인의 상관관계를 구합니다."
   ]
  },
  {
   "cell_type": "code",
   "execution_count": 20,
   "id": "ce83d637",
   "metadata": {},
   "outputs": [
    {
     "name": "stdout",
     "output_type": "stream",
     "text": [
      "               beer_servings  wine_servings\n",
      "beer_servings       1.000000       0.297774\n",
      "wine_servings       0.297774       1.000000\n"
     ]
    }
   ],
   "source": [
    "\n",
    "corr = europ[['beer_servings', 'wine_servings']].corr(method = 'pearson')\n",
    "print(corr)"
   ]
  }
 ],
 "metadata": {
  "kernelspec": {
   "display_name": "Python 3 (ipykernel)",
   "language": "python",
   "name": "python3"
  },
  "language_info": {
   "codemirror_mode": {
    "name": "ipython",
    "version": 3
   },
   "file_extension": ".py",
   "mimetype": "text/x-python",
   "name": "python",
   "nbconvert_exporter": "python",
   "pygments_lexer": "ipython3",
   "version": "3.7.16"
  }
 },
 "nbformat": 4,
 "nbformat_minor": 5
}
