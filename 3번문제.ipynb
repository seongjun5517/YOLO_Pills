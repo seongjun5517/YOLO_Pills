{
 "cells": [
  {
   "cell_type": "code",
   "execution_count": 2,
   "id": "63844a43",
   "metadata": {},
   "outputs": [],
   "source": [
    "%matplotlib inline\n",
    "\n",
    "import pandas as pd\n",
    "import numpy as np\n",
    "import matplotlib.pyplot as plt\n",
    "\n",
    "import warnings\n",
    "warnings.filterwarnings(\"ignore\")"
   ]
  },
  {
   "cell_type": "markdown",
   "id": "cd95a090",
   "metadata": {},
   "source": [
    "데이터들을 불러옵니다."
   ]
  },
  {
   "cell_type": "code",
   "execution_count": 5,
   "id": "60802279",
   "metadata": {},
   "outputs": [],
   "source": [
    "picher_file_path = '../data/picher_stats_2017.csv'\n",
    "batter_file_path = '../data/batter_stats_2017.csv'\n",
    "picher = pd.read_csv(picher_file_path)\n",
    "batter = pd.read_csv(batter_file_path)"
   ]
  },
  {
   "cell_type": "markdown",
   "id": "db73631b",
   "metadata": {},
   "source": [
    "sk와 한화팀을 뽑고, t-test검정을 합니다."
   ]
  },
  {
   "cell_type": "code",
   "execution_count": 7,
   "id": "21b50790",
   "metadata": {},
   "outputs": [
    {
     "name": "stdout",
     "output_type": "stream",
     "text": [
      "The t-statistic and p-value assuming equal variances is 1.087 and 0.284.\n",
      "The t-statistic and p-value not assuming equal variances is 1.109 and 0.275\n"
     ]
    }
   ],
   "source": [
    "han = picher.loc[picher['팀명']=='한화']\n",
    "sk = picher.loc[picher['팀명']=='SK']\n",
    "\n",
    "from scipy import stats\n",
    "tTestResult = stats.ttest_ind(han['연봉(2017)'], sk['연봉(2017)'])\n",
    "tTestResultDiffVar = stats.ttest_ind(han['연봉(2017)'], sk['연봉(2017)'], equal_var=False)\n",
    "\n",
    "print(\"The t-statistic and p-value assuming equal variances is %.3f and %.3f.\" % tTestResult)\n",
    "print(\"The t-statistic and p-value not assuming equal variances is %.3f and %.3f\" % tTestResultDiffVar)"
   ]
  }
 ],
 "metadata": {
  "kernelspec": {
   "display_name": "Python 3 (ipykernel)",
   "language": "python",
   "name": "python3"
  },
  "language_info": {
   "codemirror_mode": {
    "name": "ipython",
    "version": 3
   },
   "file_extension": ".py",
   "mimetype": "text/x-python",
   "name": "python",
   "nbconvert_exporter": "python",
   "pygments_lexer": "ipython3",
   "version": "3.7.16"
  }
 },
 "nbformat": 4,
 "nbformat_minor": 5
}
